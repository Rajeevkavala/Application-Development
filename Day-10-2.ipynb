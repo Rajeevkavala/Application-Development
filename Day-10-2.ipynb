{
 "cells": [
  {
   "cell_type": "code",
   "execution_count": 3,
   "id": "16b12549-cd1c-4f18-8971-5fed365a97c3",
   "metadata": {},
   "outputs": [],
   "source": [
    "import numpy as np"
   ]
  },
  {
   "cell_type": "code",
   "execution_count": 5,
   "id": "ffa5aae6-2650-45d4-8e7d-8b130725160a",
   "metadata": {},
   "outputs": [
    {
     "data": {
      "text/plain": [
       "array([[77, 48, 98, 74, 32, 67, 41, 30],\n",
       "       [55, 71, 50, 63, 60, 51, 92, 89],\n",
       "       [66, 43, 51, 56, 51, 41, 97, 77],\n",
       "       [88, 47, 87, 90, 30, 33, 41, 94],\n",
       "       [43, 76, 57, 54, 45, 72, 45, 59],\n",
       "       [91, 58, 41, 53, 43, 86, 54, 52],\n",
       "       [76, 45, 38, 90, 82, 34, 39, 95]])"
      ]
     },
     "execution_count": 5,
     "metadata": {},
     "output_type": "execute_result"
    }
   ],
   "source": []
  },
  {
   "cell_type": "code",
   "execution_count": 15,
   "id": "886bce92-9df1-40b7-82c1-1186d138efa5",
   "metadata": {},
   "outputs": [
    {
     "data": {
      "text/plain": [
       "array([56, 69, 59, 91, 85, 67, 63, 84, 65, 76, 91, 42, 54, 61, 81, 30, 85,\n",
       "       92, 73, 79])"
      ]
     },
     "execution_count": 15,
     "metadata": {},
     "output_type": "execute_result"
    }
   ],
   "source": [
    "np.random.seed(55)\n",
    "a=np.random.randint(30,99,20)\n"
   ]
  },
  {
   "cell_type": "code",
   "execution_count": 17,
   "id": "a70d29e9-f003-460f-bb57-8086d15824a4",
   "metadata": {},
   "outputs": [
    {
     "data": {
      "text/plain": [
       "79"
      ]
     },
     "execution_count": 17,
     "metadata": {},
     "output_type": "execute_result"
    }
   ],
   "source": [
    "a[-1]"
   ]
  },
  {
   "cell_type": "code",
   "execution_count": 19,
   "id": "2d9cc193-0ca6-4810-92ca-515924126126",
   "metadata": {},
   "outputs": [
    {
     "data": {
      "text/plain": [
       "56"
      ]
     },
     "execution_count": 19,
     "metadata": {},
     "output_type": "execute_result"
    }
   ],
   "source": [
    "a[0]"
   ]
  },
  {
   "cell_type": "code",
   "execution_count": 21,
   "id": "8c01da11-737c-4a84-b1c3-8a8750dc2ba6",
   "metadata": {},
   "outputs": [
    {
     "data": {
      "text/plain": [
       "1"
      ]
     },
     "execution_count": 21,
     "metadata": {},
     "output_type": "execute_result"
    }
   ],
   "source": [
    "a.ndim"
   ]
  },
  {
   "cell_type": "code",
   "execution_count": 23,
   "id": "9095f88a-98c7-44f8-8114-36e37fc09e34",
   "metadata": {},
   "outputs": [
    {
     "data": {
      "text/plain": [
       "(20,)"
      ]
     },
     "execution_count": 23,
     "metadata": {},
     "output_type": "execute_result"
    }
   ],
   "source": [
    "a.shape"
   ]
  },
  {
   "cell_type": "code",
   "execution_count": 49,
   "id": "a7df948a-0be0-482c-8e4d-052c7e5830e2",
   "metadata": {},
   "outputs": [
    {
     "data": {
      "text/plain": [
       "array([[42, 65, 76, 89, 95, 48, 43, 92, 67],\n",
       "       [33, 67, 79, 49, 48, 52, 59, 94, 38],\n",
       "       [39, 79, 52, 30, 39, 70, 37, 75, 98],\n",
       "       [44, 40, 33, 67, 53, 71, 76, 34, 44],\n",
       "       [57, 63, 35, 85, 52, 48, 85, 82, 85],\n",
       "       [37, 43, 61, 82, 46, 97, 92, 84, 43],\n",
       "       [79, 66, 92, 72, 31, 37, 35, 78, 98],\n",
       "       [45, 38, 38, 44, 87, 54, 32, 85, 52]])"
      ]
     },
     "execution_count": 49,
     "metadata": {},
     "output_type": "execute_result"
    }
   ],
   "source": [
    "b=np.random.randint(30,99,(8,9))\n",
    "b"
   ]
  },
  {
   "cell_type": "code",
   "execution_count": 51,
   "id": "b8df4735-1c14-4c76-af06-5faf4cf41f32",
   "metadata": {},
   "outputs": [
    {
     "data": {
      "text/plain": [
       "2"
      ]
     },
     "execution_count": 51,
     "metadata": {},
     "output_type": "execute_result"
    }
   ],
   "source": [
    "b.ndim"
   ]
  },
  {
   "cell_type": "code",
   "execution_count": 53,
   "id": "7fc34bfd-e2c5-439a-80af-b3b813c58d74",
   "metadata": {},
   "outputs": [
    {
     "data": {
      "text/plain": [
       "(8, 9)"
      ]
     },
     "execution_count": 53,
     "metadata": {},
     "output_type": "execute_result"
    }
   ],
   "source": [
    "b.shape"
   ]
  },
  {
   "cell_type": "code",
   "execution_count": 55,
   "id": "620b3a41-05fe-4c54-b586-9f366af96a5f",
   "metadata": {},
   "outputs": [
    {
     "data": {
      "text/plain": [
       "array([45, 38, 38, 44, 87, 54, 32, 85, 52])"
      ]
     },
     "execution_count": 55,
     "metadata": {},
     "output_type": "execute_result"
    }
   ],
   "source": [
    "b[7]"
   ]
  },
  {
   "cell_type": "code",
   "execution_count": 57,
   "id": "743100b9-9800-4dbe-bc9a-765d1adb6cb8",
   "metadata": {},
   "outputs": [
    {
     "data": {
      "text/plain": [
       "45"
      ]
     },
     "execution_count": 57,
     "metadata": {},
     "output_type": "execute_result"
    }
   ],
   "source": [
    "b[7,0]"
   ]
  },
  {
   "cell_type": "markdown",
   "id": "cb2ade2b-8388-4af6-9f20-eed403712156",
   "metadata": {},
   "source": [
    "## Syntax for Slicling in Multi Dim Array\n",
    "### array[row start:row end:row step , col start:col end:col step]"
   ]
  },
  {
   "cell_type": "code",
   "execution_count": 67,
   "id": "2aadff59-b9f5-4364-bb15-da2d0e918628",
   "metadata": {},
   "outputs": [
    {
     "data": {
      "text/plain": [
       "array([[39, 79, 52, 30, 39, 70, 37, 75, 98],\n",
       "       [44, 40, 33, 67, 53, 71, 76, 34, 44],\n",
       "       [57, 63, 35, 85, 52, 48, 85, 82, 85],\n",
       "       [37, 43, 61, 82, 46, 97, 92, 84, 43]])"
      ]
     },
     "execution_count": 67,
     "metadata": {},
     "output_type": "execute_result"
    }
   ],
   "source": [
    "b[2:6]"
   ]
  },
  {
   "cell_type": "code",
   "execution_count": 71,
   "id": "950b582a-54d1-4a31-80ed-41e7e7e8a9df",
   "metadata": {},
   "outputs": [
    {
     "data": {
      "text/plain": [
       "array([[79, 52, 30, 39, 70, 37],\n",
       "       [40, 33, 67, 53, 71, 76],\n",
       "       [63, 35, 85, 52, 48, 85],\n",
       "       [43, 61, 82, 46, 97, 92]])"
      ]
     },
     "execution_count": 71,
     "metadata": {},
     "output_type": "execute_result"
    }
   ],
   "source": [
    "b[2:6,1:7]"
   ]
  },
  {
   "cell_type": "code",
   "execution_count": 75,
   "id": "28216c8f-ea91-48c7-a4b4-98b128651965",
   "metadata": {},
   "outputs": [
    {
     "data": {
      "text/plain": [
       "array([[79, 30, 70],\n",
       "       [63, 85, 48]])"
      ]
     },
     "execution_count": 75,
     "metadata": {},
     "output_type": "execute_result"
    }
   ],
   "source": [
    "b[2:6:2,1:7:2]"
   ]
  },
  {
   "cell_type": "code",
   "execution_count": 78,
   "id": "eba8ad56-376e-4141-b1a2-cb3b06dbbf58",
   "metadata": {},
   "outputs": [
    {
     "data": {
      "text/plain": [
       "array([[67, 79, 49, 48, 52],\n",
       "       [79, 52, 30, 39, 70],\n",
       "       [40, 33, 67, 53, 71],\n",
       "       [63, 35, 85, 52, 48]])"
      ]
     },
     "execution_count": 78,
     "metadata": {},
     "output_type": "execute_result"
    }
   ],
   "source": [
    "b[1:5,1:6]"
   ]
  },
  {
   "cell_type": "code",
   "execution_count": null,
   "id": "f58e5568-e658-4254-bc41-61330477c9e2",
   "metadata": {},
   "outputs": [],
   "source": []
  },
  {
   "cell_type": "markdown",
   "id": "f95a7c42-9938-4688-aa2b-e34812f19000",
   "metadata": {},
   "source": [
    "### The Pandas Library is used for extract data and Manipulate the data"
   ]
  },
  {
   "cell_type": "code",
   "execution_count": 99,
   "id": "635fd1fd-bab5-48e2-adf4-91e47675f844",
   "metadata": {},
   "outputs": [],
   "source": [
    "import pandas as pd"
   ]
  },
  {
   "cell_type": "code",
   "execution_count": 118,
   "id": "f3f0d8b6-2126-4cfa-b8b7-39222265ef85",
   "metadata": {},
   "outputs": [
    {
     "data": {
      "text/plain": [
       "[4, 7, 2, 9, 7, 3, 90, 50]"
      ]
     },
     "execution_count": 118,
     "metadata": {},
     "output_type": "execute_result"
    }
   ],
   "source": [
    "r=[4,7,2,9,7,3,90,50]\n",
    "r"
   ]
  },
  {
   "cell_type": "code",
   "execution_count": 126,
   "id": "0b09b56c-548c-4da1-bf6d-cf477fc4aafb",
   "metadata": {},
   "outputs": [
    {
     "data": {
      "text/plain": [
       "[[4, 7], [2, 9], [7, 3], [90, 50]]"
      ]
     },
     "execution_count": 126,
     "metadata": {},
     "output_type": "execute_result"
    }
   ],
   "source": [
    "k=[[4,7],[2,9],[7,3],[90,50]]\n",
    "k"
   ]
  },
  {
   "cell_type": "code",
   "execution_count": 137,
   "id": "159f83ba-b54b-42e4-973d-cf1fd3d93c0e",
   "metadata": {},
   "outputs": [
    {
     "data": {
      "text/plain": [
       "array([[ 4,  7],\n",
       "       [ 2,  9],\n",
       "       [ 7,  3],\n",
       "       [90, 50]])"
      ]
     },
     "execution_count": 137,
     "metadata": {},
     "output_type": "execute_result"
    }
   ],
   "source": [
    "t=np.array(k)\n",
    "t"
   ]
  },
  {
   "cell_type": "code",
   "execution_count": 143,
   "id": "01c161aa-e5ad-4aa1-ac51-7dc1aa7fa9a3",
   "metadata": {},
   "outputs": [
    {
     "data": {
      "text/plain": [
       "(4, 2)"
      ]
     },
     "execution_count": 143,
     "metadata": {},
     "output_type": "execute_result"
    }
   ],
   "source": [
    "t.shape"
   ]
  },
  {
   "cell_type": "code",
   "execution_count": 149,
   "id": "5f0e1e81-a93f-49d3-86eb-f2e86e2f9231",
   "metadata": {},
   "outputs": [
    {
     "data": {
      "text/plain": [
       "2"
      ]
     },
     "execution_count": 149,
     "metadata": {},
     "output_type": "execute_result"
    }
   ],
   "source": [
    "t.ndim"
   ]
  },
  {
   "cell_type": "code",
   "execution_count": null,
   "id": "875d3335-05cb-40b0-99af-336bfe43315a",
   "metadata": {},
   "outputs": [],
   "source": []
  },
  {
   "cell_type": "code",
   "execution_count": 124,
   "id": "94e6fb0b-ec65-4fa2-a068-efb1ebb7d6b5",
   "metadata": {},
   "outputs": [
    {
     "data": {
      "text/plain": [
       "array([ 4,  7,  2,  9,  7,  3, 90, 50])"
      ]
     },
     "execution_count": 124,
     "metadata": {},
     "output_type": "execute_result"
    }
   ],
   "source": [
    "np.array(r)"
   ]
  },
  {
   "cell_type": "code",
   "execution_count": 132,
   "id": "9bf4e45f-53f9-4adf-8588-fdb8dbfcaa7a",
   "metadata": {},
   "outputs": [
    {
     "data": {
      "text/plain": [
       "0     4\n",
       "1     7\n",
       "2     2\n",
       "3     9\n",
       "4     7\n",
       "5     3\n",
       "6    90\n",
       "7    50\n",
       "dtype: int64"
      ]
     },
     "execution_count": 132,
     "metadata": {},
     "output_type": "execute_result"
    }
   ],
   "source": [
    "pd.Series(r)"
   ]
  },
  {
   "cell_type": "code",
   "execution_count": 152,
   "id": "559afb87-5a8a-4c10-bfb1-9786148f87fa",
   "metadata": {},
   "outputs": [
    {
     "ename": "ValueError",
     "evalue": "Data must be 1-dimensional, got ndarray of shape (4, 2) instead",
     "output_type": "error",
     "traceback": [
      "\u001b[1;31m---------------------------------------------------------------------------\u001b[0m",
      "\u001b[1;31mValueError\u001b[0m                                Traceback (most recent call last)",
      "Cell \u001b[1;32mIn[152], line 1\u001b[0m\n\u001b[1;32m----> 1\u001b[0m pd\u001b[38;5;241m.\u001b[39mSeries(t)\n",
      "File \u001b[1;32mC:\\ProgramData\\anaconda3\\Lib\\site-packages\\pandas\\core\\series.py:584\u001b[0m, in \u001b[0;36mSeries.__init__\u001b[1;34m(self, data, index, dtype, name, copy, fastpath)\u001b[0m\n\u001b[0;32m    582\u001b[0m         data \u001b[38;5;241m=\u001b[39m data\u001b[38;5;241m.\u001b[39mcopy()\n\u001b[0;32m    583\u001b[0m \u001b[38;5;28;01melse\u001b[39;00m:\n\u001b[1;32m--> 584\u001b[0m     data \u001b[38;5;241m=\u001b[39m sanitize_array(data, index, dtype, copy)\n\u001b[0;32m    586\u001b[0m     manager \u001b[38;5;241m=\u001b[39m _get_option(\u001b[38;5;124m\"\u001b[39m\u001b[38;5;124mmode.data_manager\u001b[39m\u001b[38;5;124m\"\u001b[39m, silent\u001b[38;5;241m=\u001b[39m\u001b[38;5;28;01mTrue\u001b[39;00m)\n\u001b[0;32m    587\u001b[0m     \u001b[38;5;28;01mif\u001b[39;00m manager \u001b[38;5;241m==\u001b[39m \u001b[38;5;124m\"\u001b[39m\u001b[38;5;124mblock\u001b[39m\u001b[38;5;124m\"\u001b[39m:\n",
      "File \u001b[1;32mC:\\ProgramData\\anaconda3\\Lib\\site-packages\\pandas\\core\\construction.py:659\u001b[0m, in \u001b[0;36msanitize_array\u001b[1;34m(data, index, dtype, copy, allow_2d)\u001b[0m\n\u001b[0;32m    656\u001b[0m             subarr \u001b[38;5;241m=\u001b[39m cast(np\u001b[38;5;241m.\u001b[39mndarray, subarr)\n\u001b[0;32m    657\u001b[0m             subarr \u001b[38;5;241m=\u001b[39m maybe_infer_to_datetimelike(subarr)\n\u001b[1;32m--> 659\u001b[0m subarr \u001b[38;5;241m=\u001b[39m _sanitize_ndim(subarr, data, dtype, index, allow_2d\u001b[38;5;241m=\u001b[39mallow_2d)\n\u001b[0;32m    661\u001b[0m \u001b[38;5;28;01mif\u001b[39;00m \u001b[38;5;28misinstance\u001b[39m(subarr, np\u001b[38;5;241m.\u001b[39mndarray):\n\u001b[0;32m    662\u001b[0m     \u001b[38;5;66;03m# at this point we should have dtype be None or subarr.dtype == dtype\u001b[39;00m\n\u001b[0;32m    663\u001b[0m     dtype \u001b[38;5;241m=\u001b[39m cast(np\u001b[38;5;241m.\u001b[39mdtype, dtype)\n",
      "File \u001b[1;32mC:\\ProgramData\\anaconda3\\Lib\\site-packages\\pandas\\core\\construction.py:718\u001b[0m, in \u001b[0;36m_sanitize_ndim\u001b[1;34m(result, data, dtype, index, allow_2d)\u001b[0m\n\u001b[0;32m    716\u001b[0m     \u001b[38;5;28;01mif\u001b[39;00m allow_2d:\n\u001b[0;32m    717\u001b[0m         \u001b[38;5;28;01mreturn\u001b[39;00m result\n\u001b[1;32m--> 718\u001b[0m     \u001b[38;5;28;01mraise\u001b[39;00m \u001b[38;5;167;01mValueError\u001b[39;00m(\n\u001b[0;32m    719\u001b[0m         \u001b[38;5;124mf\u001b[39m\u001b[38;5;124m\"\u001b[39m\u001b[38;5;124mData must be 1-dimensional, got ndarray of shape \u001b[39m\u001b[38;5;132;01m{\u001b[39;00mdata\u001b[38;5;241m.\u001b[39mshape\u001b[38;5;132;01m}\u001b[39;00m\u001b[38;5;124m instead\u001b[39m\u001b[38;5;124m\"\u001b[39m\n\u001b[0;32m    720\u001b[0m     )\n\u001b[0;32m    721\u001b[0m \u001b[38;5;28;01mif\u001b[39;00m is_object_dtype(dtype) \u001b[38;5;129;01mand\u001b[39;00m \u001b[38;5;28misinstance\u001b[39m(dtype, ExtensionDtype):\n\u001b[0;32m    722\u001b[0m     \u001b[38;5;66;03m# i.e. NumpyEADtype(\"O\")\u001b[39;00m\n\u001b[0;32m    724\u001b[0m     result \u001b[38;5;241m=\u001b[39m com\u001b[38;5;241m.\u001b[39masarray_tuplesafe(data, dtype\u001b[38;5;241m=\u001b[39mnp\u001b[38;5;241m.\u001b[39mdtype(\u001b[38;5;124m\"\u001b[39m\u001b[38;5;124mobject\u001b[39m\u001b[38;5;124m\"\u001b[39m))\n",
      "\u001b[1;31mValueError\u001b[0m: Data must be 1-dimensional, got ndarray of shape (4, 2) instead"
     ]
    }
   ],
   "source": [
    "pd.Series(t) #Since the t is Two Dim we cannot use the Series method..."
   ]
  },
  {
   "cell_type": "code",
   "execution_count": 154,
   "id": "866f5624-7d5c-4877-9d9c-259d58785570",
   "metadata": {},
   "outputs": [
    {
     "data": {
      "text/html": [
       "<div>\n",
       "<style scoped>\n",
       "    .dataframe tbody tr th:only-of-type {\n",
       "        vertical-align: middle;\n",
       "    }\n",
       "\n",
       "    .dataframe tbody tr th {\n",
       "        vertical-align: top;\n",
       "    }\n",
       "\n",
       "    .dataframe thead th {\n",
       "        text-align: right;\n",
       "    }\n",
       "</style>\n",
       "<table border=\"1\" class=\"dataframe\">\n",
       "  <thead>\n",
       "    <tr style=\"text-align: right;\">\n",
       "      <th></th>\n",
       "      <th>0</th>\n",
       "      <th>1</th>\n",
       "    </tr>\n",
       "  </thead>\n",
       "  <tbody>\n",
       "    <tr>\n",
       "      <th>0</th>\n",
       "      <td>4</td>\n",
       "      <td>7</td>\n",
       "    </tr>\n",
       "    <tr>\n",
       "      <th>1</th>\n",
       "      <td>2</td>\n",
       "      <td>9</td>\n",
       "    </tr>\n",
       "    <tr>\n",
       "      <th>2</th>\n",
       "      <td>7</td>\n",
       "      <td>3</td>\n",
       "    </tr>\n",
       "    <tr>\n",
       "      <th>3</th>\n",
       "      <td>90</td>\n",
       "      <td>50</td>\n",
       "    </tr>\n",
       "  </tbody>\n",
       "</table>\n",
       "</div>"
      ],
      "text/plain": [
       "    0   1\n",
       "0   4   7\n",
       "1   2   9\n",
       "2   7   3\n",
       "3  90  50"
      ]
     },
     "execution_count": 154,
     "metadata": {},
     "output_type": "execute_result"
    }
   ],
   "source": [
    "pd.DataFrame(t)"
   ]
  },
  {
   "cell_type": "code",
   "execution_count": 168,
   "id": "c9785d08-598a-4e12-ad50-2869d92defa2",
   "metadata": {},
   "outputs": [
    {
     "data": {
      "text/html": [
       "<div>\n",
       "<style scoped>\n",
       "    .dataframe tbody tr th:only-of-type {\n",
       "        vertical-align: middle;\n",
       "    }\n",
       "\n",
       "    .dataframe tbody tr th {\n",
       "        vertical-align: top;\n",
       "    }\n",
       "\n",
       "    .dataframe thead th {\n",
       "        text-align: right;\n",
       "    }\n",
       "</style>\n",
       "<table border=\"1\" class=\"dataframe\">\n",
       "  <thead>\n",
       "    <tr style=\"text-align: right;\">\n",
       "      <th></th>\n",
       "      <th>name</th>\n",
       "      <th>sub</th>\n",
       "    </tr>\n",
       "  </thead>\n",
       "  <tbody>\n",
       "    <tr>\n",
       "      <th>289</th>\n",
       "      <td>4</td>\n",
       "      <td>7</td>\n",
       "    </tr>\n",
       "    <tr>\n",
       "      <th>290</th>\n",
       "      <td>2</td>\n",
       "      <td>9</td>\n",
       "    </tr>\n",
       "    <tr>\n",
       "      <th>291</th>\n",
       "      <td>7</td>\n",
       "      <td>3</td>\n",
       "    </tr>\n",
       "    <tr>\n",
       "      <th>292</th>\n",
       "      <td>90</td>\n",
       "      <td>50</td>\n",
       "    </tr>\n",
       "  </tbody>\n",
       "</table>\n",
       "</div>"
      ],
      "text/plain": [
       "     name  sub\n",
       "289     4    7\n",
       "290     2    9\n",
       "291     7    3\n",
       "292    90   50"
      ]
     },
     "execution_count": 168,
     "metadata": {},
     "output_type": "execute_result"
    }
   ],
   "source": [
    "df = pd.DataFrame(t,columns=['name','sub'],index=[289,290,291,292])\n",
    "df"
   ]
  },
  {
   "cell_type": "code",
   "execution_count": 170,
   "id": "be332b7e-6697-4b87-94d0-cc3552755e0c",
   "metadata": {},
   "outputs": [
    {
     "data": {
      "text/plain": [
       "Index(['name', 'sub'], dtype='object')"
      ]
     },
     "execution_count": 170,
     "metadata": {},
     "output_type": "execute_result"
    }
   ],
   "source": [
    "df.columns"
   ]
  },
  {
   "cell_type": "code",
   "execution_count": 172,
   "id": "716bd742-40be-46a0-85b1-1e1c12cd3366",
   "metadata": {},
   "outputs": [
    {
     "data": {
      "text/plain": [
       "289     7\n",
       "290     9\n",
       "291     3\n",
       "292    50\n",
       "Name: sub, dtype: int32"
      ]
     },
     "execution_count": 172,
     "metadata": {},
     "output_type": "execute_result"
    }
   ],
   "source": [
    "df['sub']"
   ]
  },
  {
   "cell_type": "code",
   "execution_count": 176,
   "id": "42a9bf51-7e95-4921-a97f-4a4f99d89e8c",
   "metadata": {},
   "outputs": [
    {
     "data": {
      "text/plain": [
       "17.25"
      ]
     },
     "execution_count": 176,
     "metadata": {},
     "output_type": "execute_result"
    }
   ],
   "source": [
    "df['sub'].mean()"
   ]
  },
  {
   "cell_type": "code",
   "execution_count": 178,
   "id": "bf219c46-24df-494c-9508-8afed8c5e21c",
   "metadata": {},
   "outputs": [
    {
     "data": {
      "text/plain": [
       "8.0"
      ]
     },
     "execution_count": 178,
     "metadata": {},
     "output_type": "execute_result"
    }
   ],
   "source": [
    "df['sub'].median()"
   ]
  },
  {
   "cell_type": "code",
   "execution_count": 180,
   "id": "c8600739-5967-46a4-94e5-989c2bd79876",
   "metadata": {},
   "outputs": [
    {
     "data": {
      "text/plain": [
       "0     3\n",
       "1     7\n",
       "2     9\n",
       "3    50\n",
       "Name: sub, dtype: int32"
      ]
     },
     "execution_count": 180,
     "metadata": {},
     "output_type": "execute_result"
    }
   ],
   "source": [
    "df['sub'].mode()"
   ]
  },
  {
   "cell_type": "code",
   "execution_count": 182,
   "id": "88c397d1-9487-4fca-8816-01f8fb4cfd98",
   "metadata": {},
   "outputs": [
    {
     "data": {
      "text/plain": [
       "482.9166666666667"
      ]
     },
     "execution_count": 182,
     "metadata": {},
     "output_type": "execute_result"
    }
   ],
   "source": [
    "df['sub'].var()"
   ]
  },
  {
   "cell_type": "code",
   "execution_count": 186,
   "id": "78c40ace-3fb8-46d1-8b4f-514b7dd56258",
   "metadata": {},
   "outputs": [
    {
     "data": {
      "text/plain": [
       "21.975364995072702"
      ]
     },
     "execution_count": 186,
     "metadata": {},
     "output_type": "execute_result"
    }
   ],
   "source": [
    "df['sub'].std()"
   ]
  },
  {
   "cell_type": "code",
   "execution_count": 188,
   "id": "95d21ac2-c751-498d-8a81-c4989c495ee7",
   "metadata": {},
   "outputs": [
    {
     "data": {
      "text/plain": [
       "3"
      ]
     },
     "execution_count": 188,
     "metadata": {},
     "output_type": "execute_result"
    }
   ],
   "source": [
    "df['sub'].min()"
   ]
  },
  {
   "cell_type": "code",
   "execution_count": 190,
   "id": "d5bc491d-654a-4544-b7f1-d3a9573d9e9e",
   "metadata": {},
   "outputs": [
    {
     "data": {
      "text/plain": [
       "50"
      ]
     },
     "execution_count": 190,
     "metadata": {},
     "output_type": "execute_result"
    }
   ],
   "source": [
    "df['sub'].max()"
   ]
  },
  {
   "cell_type": "code",
   "execution_count": null,
   "id": "5a4554b4-bdb0-4144-aae3-9f0005fd3073",
   "metadata": {},
   "outputs": [],
   "source": []
  }
 ],
 "metadata": {
  "kernelspec": {
   "display_name": "Python 3 (ipykernel)",
   "language": "python",
   "name": "python3"
  },
  "language_info": {
   "codemirror_mode": {
    "name": "ipython",
    "version": 3
   },
   "file_extension": ".py",
   "mimetype": "text/x-python",
   "name": "python",
   "nbconvert_exporter": "python",
   "pygments_lexer": "ipython3",
   "version": "3.12.4"
  }
 },
 "nbformat": 4,
 "nbformat_minor": 5
}
