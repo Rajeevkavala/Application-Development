{
 "cells": [
  {
   "cell_type": "code",
   "execution_count": 5,
   "id": "b9d23fc9-15b8-40dc-ad2f-c0796a9831d5",
   "metadata": {},
   "outputs": [
    {
     "name": "stdout",
     "output_type": "stream",
     "text": [
      "<class 'int'> 12\n",
      "<class 'float'> 12.23\n",
      "<class 'str'> Rajeev\n",
      "<class 'bool'> True\n"
     ]
    }
   ],
   "source": [
    "a=12\n",
    "b=12.23\n",
    "c=\"Rajeev\"\n",
    "d=True\n",
    "print(f\"{type(a)} {a}\")\n",
    "print(f\"{type(b)} {b}\")\n",
    "print(f\"{type(c)} {c}\")\n",
    "print(f\"{type(d)} {d}\")"
   ]
  },
  {
   "cell_type": "code",
   "execution_count": null,
   "id": "41e62e84-1f4b-4f74-9ccd-8eebe11d9882",
   "metadata": {},
   "outputs": [],
   "source": []
  }
 ],
 "metadata": {
  "kernelspec": {
   "display_name": "Python 3 (ipykernel)",
   "language": "python",
   "name": "python3"
  },
  "language_info": {
   "codemirror_mode": {
    "name": "ipython",
    "version": 3
   },
   "file_extension": ".py",
   "mimetype": "text/x-python",
   "name": "python",
   "nbconvert_exporter": "python",
   "pygments_lexer": "ipython3",
   "version": "3.12.4"
  }
 },
 "nbformat": 4,
 "nbformat_minor": 5
}
