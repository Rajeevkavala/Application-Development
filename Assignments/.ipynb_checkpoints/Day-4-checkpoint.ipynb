{
 "cells": [
  {
   "cell_type": "code",
   "execution_count": 15,
   "id": "aede8a12-7e07-4736-a8f6-198ba9d5e0e7",
   "metadata": {},
   "outputs": [
    {
     "name": "stdin",
     "output_type": "stream",
     "text": [
      "Enter an even number:  6\n"
     ]
    },
    {
     "name": "stdout",
     "output_type": "stream",
     "text": [
      "The sum of all even numbers is: 12\n"
     ]
    }
   ],
   "source": [
    "num = int(input(\"Enter an even number: \"))\n",
    "\n",
    "if num % 2 == 0: \n",
    "    even_sum = 0\n",
    "    for i in range(2, num + 1, 2):\n",
    "        even_sum += i\n",
    "    print(f\"The sum of all even numbers is: {even_sum}\")\n",
    "else:\n",
    "    print(\"Invalid input! Please enter an even number.\")"
   ]
  },
  {
   "cell_type": "code",
   "execution_count": null,
   "id": "2942f2ea-8805-4f4b-b969-e788d7e91581",
   "metadata": {},
   "outputs": [],
   "source": []
  }
 ],
 "metadata": {
  "kernelspec": {
   "display_name": "Python 3 (ipykernel)",
   "language": "python",
   "name": "python3"
  },
  "language_info": {
   "codemirror_mode": {
    "name": "ipython",
    "version": 3
   },
   "file_extension": ".py",
   "mimetype": "text/x-python",
   "name": "python",
   "nbconvert_exporter": "python",
   "pygments_lexer": "ipython3",
   "version": "3.12.4"
  }
 },
 "nbformat": 4,
 "nbformat_minor": 5
}
