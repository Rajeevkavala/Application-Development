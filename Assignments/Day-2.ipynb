{
 "cells": [
  {
   "cell_type": "code",
   "execution_count": 1,
   "id": "70bf08dc-4b34-47d3-8e53-3137bc8d4fa8",
   "metadata": {},
   "outputs": [
    {
     "name": "stdout",
     "output_type": "stream",
     "text": [
      "First element: 10\n",
      "Third element: 30\n",
      "Last element: 50\n",
      "Sublist from index 1 to 3: [20, 30, 40]\n"
     ]
    }
   ],
   "source": [
    "# Creating a list\n",
    "my_list = [10, 20, 30, 40, 50]\n",
    "\n",
    "# Accessing elements by index\n",
    "print(\"First element:\", my_list[0])  # 10\n",
    "print(\"Third element:\", my_list[2])  # 30\n",
    "\n",
    "# Accessing the last element\n",
    "print(\"Last element:\", my_list[-1])  # 50\n",
    "\n",
    "# Slicing a sublist\n",
    "print(\"Sublist from index 1 to 3:\", my_list[1:4])  # [20, 30, 40]\n"
   ]
  },
  {
   "cell_type": "code",
   "execution_count": 3,
   "id": "63a97c57-8e94-4b17-9922-382068ab4a09",
   "metadata": {},
   "outputs": [
    {
     "name": "stdout",
     "output_type": "stream",
     "text": [
      "Second element: b\n",
      "Fourth element: d\n",
      "Slice from index 0 to 2: ('a', 'b', 'c')\n",
      "Last element: e\n"
     ]
    }
   ],
   "source": [
    "# Creating a tuple\n",
    "my_tuple = ('a', 'b', 'c', 'd', 'e')\n",
    "\n",
    "# Accessing elements by index\n",
    "print(\"Second element:\", my_tuple[1])  # 'b'\n",
    "print(\"Fourth element:\", my_tuple[3])  # 'd'\n",
    "\n",
    "# Accessing a range of elements\n",
    "print(\"Slice from index 0 to 2:\", my_tuple[0:3])  # ('a', 'b', 'c')\n",
    "\n",
    "# Accessing the last element\n",
    "print(\"Last element:\", my_tuple[-1])  # 'e'\n"
   ]
  },
  {
   "cell_type": "code",
   "execution_count": 5,
   "id": "d5156188-2b33-41a8-a86a-820b01485412",
   "metadata": {},
   "outputs": [
    {
     "name": "stdout",
     "output_type": "stream",
     "text": [
      "Name: Alice\n",
      "City: New York\n",
      "Age: 25\n",
      "Hobby: Reading\n",
      "Job exists: Engineer\n"
     ]
    }
   ],
   "source": [
    "# Creating a dictionary\n",
    "my_dict = {\n",
    "    \"name\": \"Alice\",\n",
    "    \"age\": 25,\n",
    "    \"city\": \"New York\",\n",
    "    \"job\": \"Engineer\",\n",
    "    \"hobby\": \"Reading\"\n",
    "}\n",
    "\n",
    "# Accessing elements by key\n",
    "print(\"Name:\", my_dict[\"name\"])  # Alice\n",
    "print(\"City:\", my_dict[\"city\"])  # New York\n",
    "\n",
    "# Using the `get` method\n",
    "print(\"Age:\", my_dict.get(\"age\"))  # 25\n",
    "print(\"Hobby:\", my_dict.get(\"hobby\"))  # Reading\n",
    "\n",
    "# Checking if a key exists\n",
    "if \"job\" in my_dict:\n",
    "    print(\"Job exists:\", my_dict[\"job\"])  # Engineer\n"
   ]
  },
  {
   "cell_type": "code",
   "execution_count": null,
   "id": "415ec87f-128e-4f1a-acf2-106c2935917b",
   "metadata": {},
   "outputs": [],
   "source": []
  }
 ],
 "metadata": {
  "kernelspec": {
   "display_name": "Python 3 (ipykernel)",
   "language": "python",
   "name": "python3"
  },
  "language_info": {
   "codemirror_mode": {
    "name": "ipython",
    "version": 3
   },
   "file_extension": ".py",
   "mimetype": "text/x-python",
   "name": "python",
   "nbconvert_exporter": "python",
   "pygments_lexer": "ipython3",
   "version": "3.12.4"
  }
 },
 "nbformat": 4,
 "nbformat_minor": 5
}
